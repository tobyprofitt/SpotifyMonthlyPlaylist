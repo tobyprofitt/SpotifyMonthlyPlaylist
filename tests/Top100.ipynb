{
 "cells": [
  {
   "cell_type": "code",
   "execution_count": 18,
   "metadata": {},
   "outputs": [],
   "source": [
    "import spotipy\n",
    "from spotipy.oauth2 import SpotifyOAuth\n",
    "\n",
    "# Instantiate sp\n",
    "scope = 'playlist-modify-private'\n",
    "sp = spotipy.Spotify(auth_manager=SpotifyOAuth(scope=scope,\n",
    "                                               redirect_uri='http://localhost:7777/callback'))"
   ]
  },
  {
   "cell_type": "code",
   "execution_count": 20,
   "metadata": {},
   "outputs": [
    {
     "name": "stdout",
     "output_type": "stream",
     "text": [
      "   1 Running album\n",
      "   2 Today's run\n",
      "   3 November 2021\n",
      "   4 October 2021\n",
      "   5 September 2021\n",
      "   6 August 2021\n",
      "   7 July 2021\n",
      "   8 June 2021\n",
      "   9 May 2021\n",
      "  10 April 2021\n",
      "  11 March 2021\n",
      "  12 February 2021\n",
      "  13 January 2021\n",
      "  14 December 2020\n",
      "  15 November 2020\n",
      "  16 October 2020\n",
      "  17 September 2020\n",
      "  18 August 2020\n",
      "  19 July 2020\n",
      "  20 June 2020\n",
      "  21 May 2020\n",
      "  22 April 2020\n",
      "  23 March 2020\n",
      "  24 February 2020\n",
      "  25 December 2019\n",
      "  26 October 2019\n",
      "  27 September 2019\n",
      "  28 August 2019\n",
      "  29 Live in Asheville '19 – King Gizzard & The Lizard Wizard\n",
      "  30 Demos Vol. 1 + Vol. 2 – King Gizzard & The Lizard Wizard\n",
      "  31 BBNG\n",
      "  32 BBNG2\n",
      "  33 The Pro-Teens – Thanks Team\n",
      "  34 The Pro-Teens – Tumultuous Times\n",
      "  35 The Pro-Teens – Tactile Living\n",
      "  36 Em and Co’s NYE Bonanza\n",
      "  37 King Gizz @ Croxton 21/02/2020\n",
      "  38 2020\n",
      "  39 roadelaide\n",
      "  40 disco bonanza\n",
      "  41 Album Club\n",
      "  42 Melbourne\n",
      "  43 King Gizz @ Sziget\n",
      "  44 Father of the Bridesmaid\n",
      "  45 2019\n",
      "  46 THUNDERCAT - bill wurtz\n",
      "  47 classical\n",
      "  48 Like a Zombie\n"
     ]
    }
   ],
   "source": [
    "playlists = sp.user_playlists('12102731566')\n",
    "while playlists:\n",
    "    for i, playlist in enumerate(playlists['items']):\n",
    "        if i < 100:\n",
    "            print(\"%4d %s\" % (i + 1, playlist['name']))\n",
    "\n",
    "    if playlists['next']:\n",
    "        playlists = sp.next(playlists)\n",
    "    else:\n",
    "        playlists = None\n"
   ]
  }
 ],
 "metadata": {
  "interpreter": {
   "hash": "2104add6808cdcbe83e0e044c14a2a2ffb68e372c162dc493482b471ef999c08"
  },
  "kernelspec": {
   "display_name": "Python 3.9.0 64-bit",
   "language": "python",
   "name": "python3"
  },
  "language_info": {
   "codemirror_mode": {
    "name": "ipython",
    "version": 3
   },
   "file_extension": ".py",
   "mimetype": "text/x-python",
   "name": "python",
   "nbconvert_exporter": "python",
   "pygments_lexer": "ipython3",
   "version": "3.9.0"
  },
  "orig_nbformat": 4
 },
 "nbformat": 4,
 "nbformat_minor": 2
}
